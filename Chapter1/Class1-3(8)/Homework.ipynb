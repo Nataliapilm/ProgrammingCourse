{
 "cells": [
  {
   "cell_type": "markdown",
   "metadata": {},
   "source": [
    "# Homework Class 8"
   ]
  },
  {
   "attachments": {},
   "cell_type": "markdown",
   "metadata": {},
   "source": [
    "\n",
    "<img src=\"C:\\Users\\Asus\\Pictures\\GitResolved.png\" alt=\"Git\" />\n"
   ]
  },
  {
   "cell_type": "markdown",
   "metadata": {},
   "source": [
    "## Exercise 0\n",
    "\n",
    "Please create a function to create a list to 1 to max_number\n",
    "\n",
    "Example\n",
    "\n",
    "n = 10\n",
    "\n",
    "Output\n",
    "\n",
    "[1,2,3,4,5,6,7,8,9,10]"
   ]
  },
  {
   "cell_type": "code",
   "execution_count": 23,
   "metadata": {},
   "outputs": [
    {
     "name": "stdout",
     "output_type": "stream",
     "text": [
      "[1, 2, 3, 4, 5, 6, 7, 8, 9, 10]\n"
     ]
    }
   ],
   "source": [
    "def create_counter_list(max_number):\n",
    "    count_list=[]\n",
    "    for number in range (1,max_number+1):\n",
    "        count_list.append(number)\n",
    "    print(count_list)\n",
    "max_number= 10\n",
    "create_counter_list(max_number)"
   ]
  },
  {
   "attachments": {},
   "cell_type": "markdown",
   "metadata": {},
   "source": [
    "## Exercise 1\n",
    "\n",
    "Please create a function to count the odd numbers of a list\n",
    "\n",
    "Example\n",
    "\n",
    "input = [2,2,3,4,4,6,7,8,9,10]\n",
    "\n",
    "output\n",
    "\n",
    "7"
   ]
  },
  {
   "cell_type": "code",
   "execution_count": 20,
   "metadata": {},
   "outputs": [
    {
     "name": "stdout",
     "output_type": "stream",
     "text": [
      "7\n"
     ]
    }
   ],
   "source": [
    "def count_odd_numbers(list):\n",
    "    count = 1\n",
    "    for number in range(1,len(list)):\n",
    "        if list[number]%2 ==0:\n",
    "            count = count +1\n",
    "    print(count)\n",
    "list =[2,2,3,4,4,6,7,8,9,10]\n",
    "count_odd_numbers(list)"
   ]
  },
  {
   "cell_type": "markdown",
   "metadata": {},
   "source": [
    "## Exercise 2\n",
    "\n",
    "Please create a function that return a list of odd numbers of input list\n",
    "\n",
    "Example\n",
    "\n",
    "input = [2,2,3,4,4,6,7,8,9,10]\n",
    "\n",
    "output\n",
    "\n",
    "[2,2,4,4,6,8,10]"
   ]
  },
  {
   "cell_type": "code",
   "execution_count": 8,
   "metadata": {},
   "outputs": [
    {
     "name": "stdout",
     "output_type": "stream",
     "text": [
      "[2, 2, 4, 4, 6, 8, 10]\n"
     ]
    }
   ],
   "source": [
    "def list_odd_numbers(list):\n",
    "    odd= []\n",
    "\n",
    "    for number in list:\n",
    "        if number % 2 ==0:\n",
    "            odd.append(number)\n",
    "    return odd\n",
    "\n",
    "list = [2,2,3,4,4,6,7,8,9,10]\n",
    "\n",
    "result = list_odd_numbers(list)\n",
    "\n",
    "print (result)"
   ]
  },
  {
   "cell_type": "markdown",
   "metadata": {},
   "source": [
    "## Exercise 3\n",
    "\n",
    "Please create a function that return a list of two lists with odd and even separate numbers of input list\n",
    "\n",
    "Example\n",
    "\n",
    "input = [2,2,3,4,4,6,7,8,9,10]\n",
    "\n",
    "output\n",
    "\n",
    "[ [2,2,4,4,6,8,10] , [3,7,9] ]"
   ]
  },
  {
   "cell_type": "code",
   "execution_count": 24,
   "metadata": {},
   "outputs": [
    {
     "data": {
      "text/plain": [
       "[3]"
      ]
     },
     "execution_count": 24,
     "metadata": {},
     "output_type": "execute_result"
    }
   ],
   "source": [
    "def list_odd_and_even_numbers(list):\n",
    "    odd_numbers = []\n",
    "    even_numbers = []\n",
    "    numbers_list = []\n",
    "    for number in list:\n",
    "        if number % 2 ==0:\n",
    "            odd_numbers.append(number)\n",
    "        elif number % 2 ==1:\n",
    "            even_numbers.append(number)\n",
    "            return even_numbers\n",
    "    print(numbers_list)\n",
    "list = [2,2,3,4,4,6,7,8,9,10]\n",
    "list_odd_and_even_numbers (list)\n"
   ]
  },
  {
   "cell_type": "markdown",
   "metadata": {},
   "source": [
    "## Exercise 4\n",
    "\n",
    "Please create a function that return a list of three lists with small , medium , and bigger words of a list of strings (words)\n",
    "(The result lists can be empty)\n",
    "\n",
    "Small (inclusive) : from 1 to 3 symbols\n",
    "Medium (inclusive): from 4 to 7 symbols\n",
    "Bigger (inclusive): 8 or more symbols\n",
    "\n",
    "Example 0 \n",
    "\n",
    "input = [\"carretera\", \"sun\", \"casa\",\"book\", \"compiler\",\"now\"]\n",
    "\n",
    "output\n",
    "\n",
    "[ [\"sun\",\"now\"] , [\"casa\",\"book\"], [\"carretera\",\"compiler\"]]\n",
    "\n",
    "Example 1\n",
    "\n",
    "input = [\"book\",\"casa\"]\n",
    "\n",
    "output\n",
    "\n",
    "[ [] , [\"book\",\"casa\"], []]"
   ]
  },
  {
   "cell_type": "code",
   "execution_count": 61,
   "metadata": {},
   "outputs": [],
   "source": [
    "def group_words_by_size(list):\n",
    "    pass # Your code here (Delete this line)"
   ]
  }
 ],
 "metadata": {
  "kernelspec": {
   "display_name": "Python 3.11.0 64-bit",
   "language": "python",
   "name": "python3"
  },
  "language_info": {
   "codemirror_mode": {
    "name": "ipython",
    "version": 3
   },
   "file_extension": ".py",
   "mimetype": "text/x-python",
   "name": "python",
   "nbconvert_exporter": "python",
   "pygments_lexer": "ipython3",
   "version": "3.11.0"
  },
  "orig_nbformat": 4,
  "vscode": {
   "interpreter": {
    "hash": "64924d34f5c95f261818ee0e41d58b43741dcf0b72677c10b726c1fe86046c0c"
   }
  }
 },
 "nbformat": 4,
 "nbformat_minor": 2
}
