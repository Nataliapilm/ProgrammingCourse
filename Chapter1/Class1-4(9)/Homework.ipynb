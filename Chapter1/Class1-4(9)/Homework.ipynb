{
 "cells": [
  {
   "cell_type": "markdown",
   "metadata": {},
   "source": [
    "# Homework 1-4 (9)\n",
    "\n",
    "## Exercise 0 \n",
    "\n",
    "Print a list in reverse without breaklines, you can *NOT* use .reverse() function"
   ]
  },
  {
   "cell_type": "code",
   "execution_count": 10,
   "metadata": {},
   "outputs": [
    {
     "name": "stdout",
     "output_type": "stream",
     "text": [
      "[3, 2, 1]\n"
     ]
    }
   ],
   "source": [
    "def print_reverse(list):\n",
    "    backwards_list=[]\n",
    "\n",
    "    for numbers in list:\n",
    "        backwards_list= [numbers] + backwards_list\n",
    "    print(backwards_list)\n",
    "\n",
    "list=[1,2,3]\n",
    "print_reverse(list)"
   ]
  },
  {
   "cell_type": "markdown",
   "metadata": {},
   "source": [
    "## Exercise 1\n",
    "Return the first vowel position in optimal form, in case the word dont have vowel the result must be -1"
   ]
  },
  {
   "cell_type": "code",
   "execution_count": 19,
   "metadata": {},
   "outputs": [
    {
     "name": "stdout",
     "output_type": "stream",
     "text": [
      "2\n",
      "-1\n"
     ]
    }
   ],
   "source": [
    "vowels = [\"a\",\"e\",\"i\",\"o\",\"u\", \"A\", \"E\",\"I\",\"O\",\"U\"]\n",
    "\n",
    "def first_vowel_position(list):\n",
    "    i= 0\n",
    "    while i < len(list):\n",
    "        if list[i] in vowels:\n",
    "            return i\n",
    "        i += 1\n",
    "    return -1\n",
    "\n",
    "print(first_vowel_position(\"Trace\")) \n",
    "print(first_vowel_position(\"txt\"))  "
   ]
  },
  {
   "attachments": {},
   "cell_type": "markdown",
   "metadata": {},
   "source": [
    "## Exercise 2\n",
    "\n",
    "Return the last vowel position in optimal form, in case the word dont have vowel the result must be -1. \n",
    "\n",
    "Use a for statement, why is not more optimal than use while? Explain"
   ]
  },
  {
   "cell_type": "code",
   "execution_count": 21,
   "metadata": {},
   "outputs": [
    {
     "name": "stdout",
     "output_type": "stream",
     "text": [
      "4\n"
     ]
    }
   ],
   "source": [
    "vowels = [\"a\",\"e\",\"i\",\"o\",\"u\", \"A\", \"E\",\"I\",\"O\",\"U\"]\n",
    "\n",
    "def last_vowel_position(word):\n",
    "    position=-1\n",
    "\n",
    "    for vowel in range(len(word)):\n",
    "        if word[vowel] in vowels:\n",
    "            position = vowel\n",
    "    return position\n",
    "\n",
    "print(last_vowel_position(\"Trace\"))"
   ]
  },
  {
   "attachments": {},
   "cell_type": "markdown",
   "metadata": {},
   "source": [
    "## Exercise 3\n",
    "Change list of digits (0 to 9) to list of letters\n",
    "\n",
    "Hint: the list of the words is ordered. "
   ]
  },
  {
   "cell_type": "code",
   "execution_count": 36,
   "metadata": {},
   "outputs": [
    {
     "name": "stdout",
     "output_type": "stream",
     "text": [
      "['two', 'five', 'one', 'nine']\n"
     ]
    }
   ],
   "source": [
    "words = [\"zero\", \"one\", \"two\", \"three\", \"four\", \"five\", \"six\", \"seven\", \"eight\", \"nine\"]\n",
    "\n",
    "def change_to_words(listOfnumbers):\n",
    "    numbers_in_words = []\n",
    "    for i in listOfnumbers:\n",
    "        if i >= 0 and i <= 9:\n",
    "            numbers_in_words.append(words[i])\n",
    "    return numbers_in_words\n",
    "\n",
    "print(change_to_words([2, 5, 1, 9])) # [\"two\", \"five\", \"one\", \"nine\"]"
   ]
  },
  {
   "attachments": {},
   "cell_type": "markdown",
   "metadata": {},
   "source": [
    "## Exercise 4\n",
    "Create a diagonal matrix (nxn) by size. Only have 1s , in principal diagonal and the rest are 0s.\n",
    "\n",
    "| 1 | 0 | 0 |\n",
    "| -- | -- | -- | \n",
    "| 0 | 1 | 0 |\n",
    "| 0 | 0 | 1 |\n",
    "\n",
    "Hint : What happend with the index in diagonal ?"
   ]
  },
  {
   "cell_type": "code",
   "execution_count": 39,
   "metadata": {},
   "outputs": [
    {
     "data": {
      "text/plain": [
       "[[1, 0, 0, 0], [0, 1, 0, 0], [0, 0, 1, 0], [0, 0, 0, 1]]"
      ]
     },
     "execution_count": 39,
     "metadata": {},
     "output_type": "execute_result"
    }
   ],
   "source": [
    "def create_diagonal_matrix(size):\n",
    "   matrix = []\n",
    "   for i in range(size):\n",
    "        row = []\n",
    "        for j in range(size):\n",
    "            if i == j:\n",
    "                row.append(1)\n",
    "            else:\n",
    "                row.append(0)\n",
    "        matrix.append(row)\n",
    "   return matrix\n",
    "   \n",
    "create_diagonal_matrix(4) \n",
    "# [[1, 0, 0, 0], [0, 1, 0, 0], [0, 0, 1, 0], [0, 0, 0, 1]]"
   ]
  },
  {
   "attachments": {},
   "cell_type": "markdown",
   "metadata": {},
   "source": [
    "## Exercise 5\n",
    "Find the max number of not empty matrix of positive numbers. Print the position and the value.\n",
    "\n"
   ]
  },
  {
   "cell_type": "code",
   "execution_count": 44,
   "metadata": {},
   "outputs": [
    {
     "name": "stdout",
     "output_type": "stream",
     "text": [
      "Position:  1 ,  1 Value:  23\n"
     ]
    }
   ],
   "source": [
    "def find_maximum_matrix(matrix):\n",
    "    max_value = 0\n",
    "    max_row = 0\n",
    "    max_col = 0\n",
    "    for i in range(len(matrix)):\n",
    "        for j in range(len(matrix[i])):\n",
    "            if matrix[i][j] > max_value:\n",
    "                max_value = matrix[i][j]\n",
    "                max_row = i\n",
    "                max_col = j\n",
    "    print(\"Position: \", max_row, \", \", max_col, \"Value: \", max_value)\n",
    "\n",
    "# Please test this scenary\n",
    "find_maximum_matrix([[5,2,3],[19,23],[0,4,1,4]]) # Position 1, 1 Value 23"
   ]
  },
  {
   "attachments": {},
   "cell_type": "markdown",
   "metadata": {},
   "source": [
    "## Exercise 6\n",
    "Create a list with the sum of the elements of each row.\n",
    "\n",
    "Example \n",
    "| 1 | 0 | 1 |\n",
    "| -- | -- | -- | \n",
    "| 4 | 1 | 0 |\n",
    "| 0 | 5 | 1 |\n",
    "\n",
    "Result :\n",
    "\n",
    "[2,5,6]"
   ]
  },
  {
   "cell_type": "code",
   "execution_count": 45,
   "metadata": {},
   "outputs": [
    {
     "name": "stdout",
     "output_type": "stream",
     "text": [
      "[2, 5, 6]\n"
     ]
    }
   ],
   "source": [
    "def calculate_sum_of_row(row):\n",
    "    sum_of_row = 0\n",
    "    for i in range(len(row)):\n",
    "        sum_of_row += row[i]\n",
    "    return sum_of_row\n",
    "\n",
    "def compute_sum_of_rows(matrix):\n",
    "    sum_of_rows = []\n",
    "    for i in range(len(matrix)):\n",
    "        sum_of_rows.append(calculate_sum_of_row(matrix[i]))\n",
    "    return sum_of_rows\n",
    "\n",
    "print(compute_sum_of_rows([[1,0,1],[4,1,0],[0,5,1]]))\n",
    " "
   ]
  },
  {
   "cell_type": "code",
   "execution_count": 47,
   "metadata": {},
   "outputs": [
    {
     "data": {
      "text/plain": [
       "13"
      ]
     },
     "execution_count": 47,
     "metadata": {},
     "output_type": "execute_result"
    }
   ],
   "source": [
    "# Now calculate the sum of all elements of list, use previous functions\n",
    "\n",
    "def sum_of_all_elements(matrix):\n",
    "    result = calculate_sum_of_row(compute_sum_of_rows(matrix))\n",
    "    return result\n",
    "sum_of_all_elements([[1,0,1],[4,1,0],[0,5,1]])"
   ]
  },
  {
   "attachments": {},
   "cell_type": "markdown",
   "metadata": {},
   "source": [
    "## Exercise 7\n",
    "Create a Triagular matrix n x n.\n",
    "Only have 1s and 0s\n",
    "\n",
    "Result  \n",
    "| 1 | 1 | 1 |\n",
    "| -- | -- | -- | \n",
    "| 1| 1 | 0 |\n",
    "| 1 | 0 | 0 |\n",
    "\n",
    "Hint: Counter to lower value\n"
   ]
  },
  {
   "cell_type": "code",
   "execution_count": 119,
   "metadata": {},
   "outputs": [
    {
     "name": "stdout",
     "output_type": "stream",
     "text": [
      "[[1, 1, 1], [1, 1, 0], [1, 0, 0]]\n"
     ]
    }
   ],
   "source": [
    "def triagular_matrix(size):\n",
    "    matrix = []\n",
    "    for i in range(size):\n",
    "        row = []\n",
    "        for j in range(size):\n",
    "            if j+i <size:\n",
    "                row.append(1)\n",
    "            else:\n",
    "                row.append(0)\n",
    "        matrix.append(row)\n",
    "    return matrix\n",
    "\n",
    "print(triagular_matrix(3))\n",
    "\n",
    "##De este ultimo si me copie de la clase, pido perdun"
   ]
  }
 ],
 "metadata": {
  "kernelspec": {
   "display_name": "Python 3",
   "language": "python",
   "name": "python3"
  },
  "language_info": {
   "codemirror_mode": {
    "name": "ipython",
    "version": 3
   },
   "file_extension": ".py",
   "mimetype": "text/x-python",
   "name": "python",
   "nbconvert_exporter": "python",
   "pygments_lexer": "ipython3",
   "version": "3.11.0"
  },
  "orig_nbformat": 4,
  "vscode": {
   "interpreter": {
    "hash": "64924d34f5c95f261818ee0e41d58b43741dcf0b72677c10b726c1fe86046c0c"
   }
  }
 },
 "nbformat": 4,
 "nbformat_minor": 2
}
