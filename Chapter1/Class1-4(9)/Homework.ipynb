{
 "cells": [
  {
   "cell_type": "markdown",
   "metadata": {},
   "source": [
    "# Homework 1-4 (9)\n",
    "\n",
    "## Exercise 0 \n",
    "\n",
    "Print a list in reverse without breaklines, you can *NOT* use .reverse() function"
   ]
  },
  {
   "cell_type": "code",
   "execution_count": 25,
   "metadata": {},
   "outputs": [],
   "source": [
    "def print_reverse(list):\n",
    "    pass # your code here\n",
    "\n",
    "print_reverse([1,2,3]) # Expect 3 2 1 or similar\n"
   ]
  },
  {
   "cell_type": "markdown",
   "metadata": {},
   "source": [
    "## Exercise 1\n",
    "Return the first vowel position in optimal form, in case the word dont have vowel the result must be -1"
   ]
  },
  {
   "cell_type": "code",
   "execution_count": 26,
   "metadata": {},
   "outputs": [],
   "source": [
    "def first_vowel_position(list):\n",
    "    pass #your code here\n",
    "first_vowel_position(\"Trace\") # Expect 2\n",
    "first_vowel_position(\"txt\") # Expect -1"
   ]
  },
  {
   "attachments": {},
   "cell_type": "markdown",
   "metadata": {},
   "source": [
    "## Exercise 2\n",
    "\n",
    "Return the last vowel position in optimal form, in case the word dont have vowel the result must be -1. \n",
    "\n",
    "Use a for statement, why is not more optimal than use while? Explain"
   ]
  },
  {
   "cell_type": "code",
   "execution_count": 27,
   "metadata": {},
   "outputs": [],
   "source": [
    "def last_vowel_position(list):\n",
    "    pass #your code here\n",
    "last_vowel_position(\"Trace\") # Expect 2"
   ]
  },
  {
   "attachments": {},
   "cell_type": "markdown",
   "metadata": {},
   "source": [
    "## Exercise 3\n",
    "Change list of digits (0 to 9) to list of letters\n",
    "\n",
    "Hint: the list of the words is ordered. "
   ]
  },
  {
   "cell_type": "code",
   "execution_count": 28,
   "metadata": {},
   "outputs": [],
   "source": [
    "words = [\"zero\",\"one\",\"two\",\"three\",\"four\",\"five\",\"six\",\"seven\",\"eight\",\"nine\"]\n",
    "def change_to_words(listOfNumbers):\n",
    "    pass # Your code here\n",
    "change_to_words([2,5,1,9]) # [\"two\",\"five\",\"one\",\"nine\"]"
   ]
  },
  {
   "attachments": {},
   "cell_type": "markdown",
   "metadata": {},
   "source": [
    "## Exercise 4\n",
    "Create a diagonal matrix (nxn) by size. Only have 1s , in principal diagonal and the rest are 0s.\n",
    "\n",
    "| 1 | 0 | 0 |\n",
    "| -- | -- | -- | \n",
    "| 0 | 1 | 0 |\n",
    "| 0 | 0 | 1 |\n",
    "\n",
    "Hint : What happend with the index in diagonal ?"
   ]
  },
  {
   "cell_type": "code",
   "execution_count": 29,
   "metadata": {},
   "outputs": [],
   "source": [
    "def create_diagonal_matrix(size):\n",
    "   pass # your code here\n",
    "\n",
    "create_diagonal_matrix(4) \n",
    "# [[1, 0, 0, 0], [0, 1, 0, 0], [0, 0, 1, 0], [0, 0, 0, 1]]"
   ]
  },
  {
   "attachments": {},
   "cell_type": "markdown",
   "metadata": {},
   "source": [
    "## Exercise 5\n",
    "Find the max number of not empty matrix of positive numbers. Print the position and the value.\n",
    "\n"
   ]
  },
  {
   "cell_type": "code",
   "execution_count": 30,
   "metadata": {},
   "outputs": [],
   "source": [
    "def find_maximum_matrix(matrix):\n",
    "    pass #Your code here\n",
    "\n",
    "# Please test this scenary\n",
    "find_maximum_matrix([[5,2,3],[19,23],[0,4,1,4]]) # Position 1, 1 Value 23"
   ]
  },
  {
   "attachments": {},
   "cell_type": "markdown",
   "metadata": {},
   "source": [
    "## Exercise 6\n",
    "Create a list with the sum of the elements of each row.\n",
    "\n",
    "Example \n",
    "| 1 | 0 | 1 |\n",
    "| -- | -- | -- | \n",
    "| 4 | 1 | 0 |\n",
    "| 0 | 5 | 1 |\n",
    "\n",
    "Result :\n",
    "\n",
    "[2,5,6]"
   ]
  },
  {
   "cell_type": "code",
   "execution_count": 1,
   "metadata": {},
   "outputs": [],
   "source": [
    "\"\"\"\n",
    "    This method return the sum of the elemnts of rows. Your CAN'T use \"build-in\" method sum() please implement with for statement\n",
    "    sum(list)\n",
    "\"\"\"\n",
    "def calculate_sum_of_row(row):\n",
    "    pass # use a for here , why for and not while\n",
    "\n",
    "def compute_sum_of_rows(matrix):\n",
    "    pass # use calculate_sum_of_row method and more ...\n",
    " "
   ]
  },
  {
   "cell_type": "code",
   "execution_count": 32,
   "metadata": {},
   "outputs": [],
   "source": [
    "# Now calculate the sum of all elements of list, use previous functions\n",
    "\n",
    "def sum_of_all_elemnts(matrix):\n",
    "    pass # Your code here\n",
    "# Expect result is 13 with the matrix of the example"
   ]
  },
  {
   "attachments": {},
   "cell_type": "markdown",
   "metadata": {},
   "source": [
    "## Exercise 7\n",
    "Create a Triagular matrix n x n.\n",
    "Only have 1s and 0s\n",
    "\n",
    "Result  \n",
    "| 1 | 1 | 1 |\n",
    "| -- | -- | -- | \n",
    "| 1| 1 | 0 |\n",
    "| 1 | 0 | 0 |\n",
    "\n",
    "Hint: Counter to lower value\n"
   ]
  },
  {
   "cell_type": "code",
   "execution_count": 33,
   "metadata": {},
   "outputs": [],
   "source": [
    "def triagular_matrix(size):\n",
    "    pass # yourcode here\n",
    "counter = 10\n",
    "counter -=1 # is the same of counter = counter - 1"
   ]
  }
 ],
 "metadata": {
  "kernelspec": {
   "display_name": "Python 3.10.4 64-bit",
   "language": "python",
   "name": "python3"
  },
  "language_info": {
   "codemirror_mode": {
    "name": "ipython",
    "version": 3
   },
   "file_extension": ".py",
   "mimetype": "text/x-python",
   "name": "python",
   "nbconvert_exporter": "python",
   "pygments_lexer": "ipython3",
   "version": "3.10.4"
  },
  "orig_nbformat": 4,
  "vscode": {
   "interpreter": {
    "hash": "e913b7897ac30ba1cf0615ffc95e0dcac655edcf15ece0252fa093eec079069f"
   }
  }
 },
 "nbformat": 4,
 "nbformat_minor": 2
}
