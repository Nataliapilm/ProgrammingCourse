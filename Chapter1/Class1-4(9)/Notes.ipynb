{
 "cells": [
  {
   "cell_type": "code",
   "execution_count": 1,
   "metadata": {},
   "outputs": [
    {
     "data": {
      "text/plain": [
       "0"
      ]
     },
     "execution_count": 1,
     "metadata": {},
     "output_type": "execute_result"
    }
   ],
   "source": [
    "def bad_function(): \n",
    "    for i in range(0,10):\n",
    "        return i\n",
    "\n",
    "bad_function()"
   ]
  },
  {
   "cell_type": "code",
   "execution_count": 2,
   "metadata": {},
   "outputs": [
    {
     "data": {
      "text/plain": [
       "'is long word'"
      ]
     },
     "execution_count": 2,
     "metadata": {},
     "output_type": "execute_result"
    }
   ],
   "source": [
    "def bad_function_2(word): \n",
    "    if len(word) > 5:\n",
    "        return \"is long word\"\n",
    "    if word[0] == \"a\":\n",
    "        return \"start with a\"\n",
    "\n",
    "bad_function_2(\"aerobic\")"
   ]
  },
  {
   "cell_type": "code",
   "execution_count": 3,
   "metadata": {},
   "outputs": [],
   "source": [
    "def valid_multiple_return(choice):\n",
    "    if choice==1:\n",
    "        return \"one\"\n",
    "    elif choice==2:\n",
    "        return \"two\"\n",
    "    else: # NEEDS ELSE ALWAYS\n",
    "        return \"not valid choice\""
   ]
  },
  {
   "cell_type": "code",
   "execution_count": 4,
   "metadata": {},
   "outputs": [
    {
     "name": "stdout",
     "output_type": "stream",
     "text": [
      "10 9 8 7 6 5 4 3 2 1 "
     ]
    }
   ],
   "source": [
    "for i in range(10, 0, -1): \n",
    "    print(i, end=\" \")\n"
   ]
  },
  {
   "cell_type": "code",
   "execution_count": 5,
   "metadata": {},
   "outputs": [
    {
     "name": "stdout",
     "output_type": "stream",
     "text": [
      "2 4 6 8 "
     ]
    }
   ],
   "source": [
    "for i in range(2, 10, 2): \n",
    "    print(i, end=\" \")"
   ]
  },
  {
   "cell_type": "code",
   "execution_count": 6,
   "metadata": {},
   "outputs": [
    {
     "data": {
      "text/plain": [
       "[[0, 1, 2], [3, 4, 5], [6, 7, 8]]"
      ]
     },
     "execution_count": 6,
     "metadata": {},
     "output_type": "execute_result"
    }
   ],
   "source": [
    "matrix = [ [0,1,2] , [3,4,5] , [6,7,8]]\n",
    "matrix"
   ]
  },
  {
   "cell_type": "code",
   "execution_count": 7,
   "metadata": {},
   "outputs": [
    {
     "name": "stdout",
     "output_type": "stream",
     "text": [
      "A\n",
      "[['A', 1, 2], [3, 4, 5], [6, 7, 8]]\n"
     ]
    }
   ],
   "source": [
    "matrix[0][0] = \"A\"\n",
    "firstItem = matrix[0][0] \n",
    "print(firstItem)\n",
    "print(matrix)"
   ]
  },
  {
   "cell_type": "code",
   "execution_count": 8,
   "metadata": {},
   "outputs": [
    {
     "name": "stdout",
     "output_type": "stream",
     "text": [
      "A 1 2 3 4 5 6 7 8 "
     ]
    }
   ],
   "source": [
    "for row in matrix:\n",
    "    for cell in row:\n",
    "        print(cell, end =\" \")"
   ]
  },
  {
   "cell_type": "code",
   "execution_count": 9,
   "metadata": {},
   "outputs": [
    {
     "name": "stdout",
     "output_type": "stream",
     "text": [
      "Value: 2 Position:  (0, 0)\n",
      "Value: 3 Position:  (1, 0)\n",
      "Value: 5 Position:  (1, 1)\n",
      "Value: 3 Position:  (2, 0)\n",
      "Value: 6 Position:  (2, 1)\n",
      "Value: 3 Position:  (2, 2)\n"
     ]
    }
   ],
   "source": [
    "matrix_2 = [[2],[3,5],[3,6,3]]\n",
    "for row in range(0,len(matrix_2)):\n",
    "    for column in range(0,len(matrix_2[row])):\n",
    "        print(\"Value:\",matrix_2[row][column],\"Position: \",(row,column))"
   ]
  },
  {
   "cell_type": "code",
   "execution_count": 10,
   "metadata": {},
   "outputs": [
    {
     "data": {
      "text/plain": [
       "[[0, 1, 2], [3, 4, 5], [6, 7, 8]]"
      ]
     },
     "execution_count": 10,
     "metadata": {},
     "output_type": "execute_result"
    }
   ],
   "source": [
    "def buildSpecialMatrix():\n",
    "    counter = 0\n",
    "    matrix = []   \n",
    "    for i in range(3): \n",
    "        row = []         \n",
    "        for j in range(3):\n",
    "            row.append(counter)\n",
    "            counter+=1\n",
    "        # print(row)\n",
    "        matrix.append(row)\n",
    "    return matrix\n",
    "buildSpecialMatrix()\n",
    "\n",
    "\n"
   ]
  },
  {
   "cell_type": "code",
   "execution_count": 11,
   "metadata": {},
   "outputs": [
    {
     "name": "stdout",
     "output_type": "stream",
     "text": [
      "0 1 2 3 4 5 6 7 8 9 "
     ]
    }
   ],
   "source": [
    "counter = 0\n",
    "\n",
    "while counter < 10:\n",
    "    print(counter, end = \" \")\n",
    "    counter = counter + 1"
   ]
  },
  {
   "cell_type": "code",
   "execution_count": 12,
   "metadata": {},
   "outputs": [
    {
     "name": "stdout",
     "output_type": "stream",
     "text": [
      " A AA AAA AAAA "
     ]
    }
   ],
   "source": [
    "word = \"\"\n",
    "\n",
    "while word != \"AAAAA\":\n",
    "    print(word, end = \" \")\n",
    "    word  = word  + \"A\""
   ]
  },
  {
   "cell_type": "code",
   "execution_count": 13,
   "metadata": {},
   "outputs": [
    {
     "name": "stdout",
     "output_type": "stream",
     "text": [
      "HolaXXXXXX\n",
      "HolaMundoY\n"
     ]
    }
   ],
   "source": [
    "def increase(word,until,symbol = \"*\"):\n",
    "    while len(word) < until:\n",
    "        word += symbol  # var += value is the same of var = var + value\n",
    "    return word\n",
    "\n",
    "print(increase(\"Hola\", 10, \"X\"))\n",
    "print(increase(\"HolaMundo\", 10, \"Y\"))"
   ]
  },
  {
   "cell_type": "code",
   "execution_count": 14,
   "metadata": {},
   "outputs": [
    {
     "name": "stdout",
     "output_type": "stream",
     "text": [
      "Hola******\n",
      "Pez*******\n",
      "Arroz*****\n"
     ]
    },
    {
     "data": {
      "text/plain": [
       "['Hola', 'Pez', 'Arroz']"
      ]
     },
     "execution_count": 14,
     "metadata": {},
     "output_type": "execute_result"
    }
   ],
   "source": [
    "lista = [ \"Hola\", \"Pez\", \"Arroz\"]\n",
    "\n",
    "def normalizeList(lista):\n",
    "    for elem in lista:\n",
    "        elem = increase(elem,10)\n",
    "        print(elem)\n",
    "normalizeList(lista)\n",
    "lista"
   ]
  },
  {
   "cell_type": "code",
   "execution_count": 15,
   "metadata": {},
   "outputs": [
    {
     "data": {
      "text/plain": [
       "['Hola******', 'Pez*******', 'Arroz*****']"
      ]
     },
     "execution_count": 15,
     "metadata": {},
     "output_type": "execute_result"
    }
   ],
   "source": [
    "lista = [ \"Hola\", \"Pez\", \"Arroz\"]\n",
    "\n",
    "def normalizeList(lista):\n",
    "    for elem_index in range(len(lista)):\n",
    "        lista[elem_index] = increase(lista[elem_index],10)\n",
    "normalizeList(lista)\n",
    "lista\n"
   ]
  },
  {
   "cell_type": "code",
   "execution_count": 16,
   "metadata": {},
   "outputs": [
    {
     "name": "stdout",
     "output_type": "stream",
     "text": [
      "True\n",
      "False\n"
     ]
    }
   ],
   "source": [
    "\n",
    "vowels = [\"a\",\"e\",\"i\",\"o\",\"u\"]\n",
    "def isVowel(letter):\n",
    "    isVowel = False\n",
    "    idx = 0\n",
    "    while not isVowel and idx < len(vowels):\n",
    "        isVowel = letter ==vowels[idx]\n",
    "        idx +=1 \n",
    "    return isVowel\n",
    "\n",
    "string = \"ABCD\"\n",
    "string[0] # A\n",
    "string[1] # B\n",
    "\n",
    "def hasVowels(word):\n",
    "    hasVowels = False\n",
    "    idx = 0\n",
    "    while not hasVowels and idx < len(word):\n",
    "        hasVowels = isVowel(word[idx])\n",
    "        idx +=1\n",
    "    return hasVowels\n",
    "    \n",
    "print(hasVowels(\"Hola\"))\n",
    "print(hasVowels(\"Thr\"))"
   ]
  },
  {
   "cell_type": "code",
   "execution_count": null,
   "metadata": {},
   "outputs": [],
   "source": []
  }
 ],
 "metadata": {
  "kernelspec": {
   "display_name": "Python 3.10.4 64-bit",
   "language": "python",
   "name": "python3"
  },
  "language_info": {
   "codemirror_mode": {
    "name": "ipython",
    "version": 3
   },
   "file_extension": ".py",
   "mimetype": "text/x-python",
   "name": "python",
   "nbconvert_exporter": "python",
   "pygments_lexer": "ipython3",
   "version": "3.10.4"
  },
  "orig_nbformat": 4,
  "vscode": {
   "interpreter": {
    "hash": "e913b7897ac30ba1cf0615ffc95e0dcac655edcf15ece0252fa093eec079069f"
   }
  }
 },
 "nbformat": 4,
 "nbformat_minor": 2
}
