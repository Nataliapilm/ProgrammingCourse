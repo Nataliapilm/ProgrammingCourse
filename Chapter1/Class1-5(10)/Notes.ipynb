{
 "cells": [
  {
   "cell_type": "code",
   "execution_count": 7,
   "id": "c39e3ce2",
   "metadata": {},
   "outputs": [
    {
     "name": "stdout",
     "output_type": "stream",
     "text": [
      "5 4 3 2 1 "
     ]
    }
   ],
   "source": [
    "def print_reverse(list):\n",
    "    for i in range(len(list)-1,-1,-1):\n",
    "        print(list[i],end=\" \")\n",
    "\n",
    "print_reverse([1,2,3,4,5])"
   ]
  },
  {
   "cell_type": "code",
   "execution_count": 9,
   "id": "b31c72ae",
   "metadata": {},
   "outputs": [],
   "source": [
    "vowels = [\"a\",\"e\",\"i\",\"o\",\"u\"]\n",
    "def isVowel(letter):\n",
    "    isVowel = False\n",
    "    idx = 0\n",
    "    while not isVowel and idx < len(vowels):\n",
    "        isVowel = letter ==vowels[idx]\n",
    "        idx +=1 \n",
    "    return isVowel\n",
    "def first_vowel_position(word):\n",
    "    hasVowels = False\n",
    "    idx = 0\n",
    "    position=-1\n",
    "    while not hasVowels and idx < len(word):\n",
    "        hasVowels = isVowel(word[idx])\n",
    "        if hasVowels:\n",
    "            position = idx\n",
    "        idx +=1\n",
    "    return position"
   ]
  },
  {
   "cell_type": "code",
   "execution_count": 12,
   "id": "7626c979",
   "metadata": {},
   "outputs": [
    {
     "data": {
      "text/plain": [
       "0"
      ]
     },
     "execution_count": 12,
     "metadata": {},
     "output_type": "execute_result"
    }
   ],
   "source": [
    "first_vowel_position(\"anaaaaaaaaaaaaaaaaaaaaaaaaaaaa\")"
   ]
  },
  {
   "cell_type": "code",
   "execution_count": 13,
   "id": "2e253c1a",
   "metadata": {},
   "outputs": [
    {
     "data": {
      "text/plain": [
       "4"
      ]
     },
     "execution_count": 13,
     "metadata": {},
     "output_type": "execute_result"
    }
   ],
   "source": [
    "def last_vowel_position(word):\n",
    "    hasVowels = False\n",
    "    position=-1\n",
    "    for idx in range(0,len(word)):\n",
    "        hasVowels = isVowel(word[idx])\n",
    "        if hasVowels:\n",
    "            position=idx\n",
    "    return position\n",
    "last_vowel_position(\"Trace\") # Expe"
   ]
  },
  {
   "cell_type": "code",
   "execution_count": 17,
   "id": "ef357204",
   "metadata": {},
   "outputs": [
    {
     "name": "stdout",
     "output_type": "stream",
     "text": [
      "Cicle\n"
     ]
    },
    {
     "data": {
      "text/plain": [
       "27"
      ]
     },
     "execution_count": 17,
     "metadata": {},
     "output_type": "execute_result"
    }
   ],
   "source": [
    "def last_vowel_position_optimal(word):\n",
    "    hasVowels = False\n",
    "    position=-1\n",
    "    idx = len(word) -1 \n",
    "    # for idx in range(0,len(word)):\n",
    "    while not hasVowels and idx>=0:\n",
    "        hasVowels = isVowel(word[idx])\n",
    "        if hasVowels:\n",
    "            position=idx\n",
    "        print(\"Cicle\")\n",
    "    return position\n",
    "last_vowel_position_optimal(\"TTTTTtttttttttttttttttttrace\") # Expe"
   ]
  },
  {
   "cell_type": "code",
   "execution_count": 24,
   "id": "13a93a03",
   "metadata": {},
   "outputs": [
    {
     "data": {
      "text/plain": [
       "['two', 'five', 'one', 'nine']"
      ]
     },
     "execution_count": 24,
     "metadata": {},
     "output_type": "execute_result"
    }
   ],
   "source": [
    "words = [\"zero\",\"one\",\"two\",\"three\",\"four\",\"five\",\"six\",\"seven\",\"eight\",\"nine\"]\n",
    "def change_to_words(listOfNumbers):\n",
    "    new_list=listOfNumbers.copy()\n",
    "    for i in range(0,len(listOfNumbers)):\n",
    "        new_list[i]=words[listOfNumbers[i]]\n",
    "    return new_list\n",
    "change_to_words([2,5,1,9])"
   ]
  },
  {
   "cell_type": "code",
   "execution_count": 25,
   "id": "1c64afee",
   "metadata": {},
   "outputs": [
    {
     "data": {
      "text/plain": [
       "['two', 'five', 'one', 'nine']"
      ]
     },
     "execution_count": 25,
     "metadata": {},
     "output_type": "execute_result"
    }
   ],
   "source": [
    "words = [\"zero\",\"one\",\"two\",\"three\",\"four\",\"five\",\"six\",\"seven\",\"eight\",\"nine\"]\n",
    "def change_to_words_v2(listOfNumbers):\n",
    "    new_list= [] \n",
    "    for number in listOfNumbers:\n",
    "        new_list.append(words[number])\n",
    "    return new_list\n",
    "change_to_words_v2([2,5,1,9])"
   ]
  },
  {
   "cell_type": "code",
   "execution_count": 29,
   "id": "9cd67129",
   "metadata": {},
   "outputs": [
    {
     "data": {
      "text/plain": [
       "[[1, 0, 0, 0], [0, 1, 0, 0], [0, 0, 1, 0], [0, 0, 0, 1]]"
      ]
     },
     "execution_count": 29,
     "metadata": {},
     "output_type": "execute_result"
    }
   ],
   "source": [
    "def create_diagonal_matrix(size):\n",
    "   matrix = []   \n",
    "   for i in range(size): \n",
    "      row = []         \n",
    "      for j in range(size):\n",
    "         if i==j:\n",
    "            row.append(1)\n",
    "         else:\n",
    "            row.append(0)\n",
    "      # print(row)\n",
    "      matrix.append(row)\n",
    "   return matrix\n",
    "create_diagonal_matrix(4) \n"
   ]
  },
  {
   "cell_type": "code",
   "execution_count": 35,
   "id": "8195e0f4",
   "metadata": {},
   "outputs": [
    {
     "name": "stdout",
     "output_type": "stream",
     "text": [
      "Value: 23 Position:  (1, 1)\n"
     ]
    }
   ],
   "source": [
    "def find_maximum_matrix(matrix):\n",
    "    max_value=0\n",
    "    max_row_idx=0\n",
    "    max_column_idx=0\n",
    "    for row in range(0,len(matrix)):\n",
    "        for column in range(0,len(matrix[row])):\n",
    "            if matrix[row][column]>max_value:\n",
    "                max_column_idx=column\n",
    "                max_row_idx=row\n",
    "                max_value=matrix[row][column]\n",
    "    print(\"Value:\",max_value,\"Position: \",(max_row_idx,max_column_idx))\n",
    "find_maximum_matrix([[5,2,3],[19,23],[0,4,1,4]]) # Position 1, 1 Value 23\n"
   ]
  },
  {
   "cell_type": "code",
   "execution_count": 38,
   "id": "a5fbf509",
   "metadata": {},
   "outputs": [
    {
     "data": {
      "text/plain": [
       "[2, 5, 6]"
      ]
     },
     "execution_count": 38,
     "metadata": {},
     "output_type": "execute_result"
    }
   ],
   "source": [
    "def calculate_sum_of_row(row):\n",
    "    suma=0\n",
    "    for elemnt in row:\n",
    "        suma += elemnt\n",
    "    return suma\n",
    "\n",
    "def compute_sum_of_rows(matrix):\n",
    "    suma_matrix=[]\n",
    "    for row in matrix:\n",
    "        suma_matrix.append(calculate_sum_of_row(row))\n",
    "    return suma_matrix\n",
    "\n",
    "compute_sum_of_rows([[1,0,1],[4,1,0],[0,5,1]])"
   ]
  },
  {
   "cell_type": "code",
   "execution_count": 41,
   "id": "73afd51d",
   "metadata": {},
   "outputs": [
    {
     "data": {
      "text/plain": [
       "13"
      ]
     },
     "execution_count": 41,
     "metadata": {},
     "output_type": "execute_result"
    }
   ],
   "source": [
    "def sum_of_all_elemnts(matrix):\n",
    "    return calculate_sum_of_row(compute_sum_of_rows(matrix))\n",
    "sum_of_all_elemnts([[1,0,1],[4,1,0],[0,5,1]])\n"
   ]
  },
  {
   "cell_type": "code",
   "execution_count": 51,
   "id": "9fc427c3",
   "metadata": {},
   "outputs": [
    {
     "data": {
      "text/plain": [
       "[[1, 1, 1, 1, 1],\n",
       " [1, 1, 1, 1, 0],\n",
       " [1, 1, 1, 0, 0],\n",
       " [1, 1, 0, 0, 0],\n",
       " [1, 0, 0, 0, 0]]"
      ]
     },
     "execution_count": 51,
     "metadata": {},
     "output_type": "execute_result"
    }
   ],
   "source": [
    "def triagular_diagonal_matrix(size): #hace lo mismo pero pal otro lado xd\n",
    "    matrix = []   \n",
    "    for i in range(size): \n",
    "        row = []         \n",
    "        for j in range(size):\n",
    "            if (i+j)<size:\n",
    "                row.append(1)\n",
    "            else:\n",
    "                row.append(0)\n",
    "        # Que tienen en comun la diagonal de 1 ? \n",
    "        matrix.append(row)\n",
    "    return matrix\n",
    "\n",
    "triagular_diagonal_matrix(5)"
   ]
  },
  {
   "cell_type": "code",
   "execution_count": 57,
   "id": "46d4ef04",
   "metadata": {},
   "outputs": [
    {
     "data": {
      "text/plain": [
       "[[1, 1, 1, 1, 1],\n",
       " [1, 1, 1, 1, 0],\n",
       " [1, 1, 1, 0, 0],\n",
       " [1, 1, 0, 0, 0],\n",
       " [1, 0, 0, 0, 0]]"
      ]
     },
     "execution_count": 57,
     "metadata": {},
     "output_type": "execute_result"
    }
   ],
   "source": [
    "def triagular_diagonal_matrix_2(size): #hace lo mismo pero pal otro lado xd\n",
    "    matrix = []   \n",
    "    counter = size -1 \n",
    "    for i in range(size): \n",
    "        row = []         \n",
    "        for j in range(size):\n",
    "            if j<=counter:\n",
    "                row.append(1)\n",
    "            else:\n",
    "                row.append(0)\n",
    "        counter -= 1\n",
    "        # Que tienen en comun la diagonal de 1 ? \n",
    "        matrix.append(row)\n",
    "    return matrix\n",
    "triagular_diagonal_matrix_2(5)"
   ]
  },
  {
   "cell_type": "markdown",
   "id": "26890e9f",
   "metadata": {},
   "source": [
    "# Diamond\n",
    "\n",
    "|  0 |  1   | 2 |\n",
    "| -- | -- | -- |\n",
    "|  O | X | O  |\n",
    "|  X | X | X  |\n",
    "|  O | X | O  |\n",
    "\n",
    "\n",
    "|  0 |  1   | 2 | 3 |\n",
    " | -- | -- | -- | -- |\n",
    "|  O | X | X  | O |\n",
    "|  X | X | X  | X |\n",
    "|  X | X | X  | X |\n",
    "|  O | X | X  | O |\n"
   ]
  },
  {
   "cell_type": "code",
   "execution_count": 135,
   "id": "7c9f47e6",
   "metadata": {},
   "outputs": [
    {
     "data": {
      "text/plain": [
       "[['O', 'O', 'O', 'X', 'O', 'O', 'O'],\n",
       " ['O', 'O', 'X', 'X', 'X', 'O', 'O'],\n",
       " ['O', 'X', 'X', 'X', 'X', 'X', 'O'],\n",
       " ['X', 'X', 'X', 'X', 'X', 'X', 'X'],\n",
       " ['O', 'X', 'X', 'X', 'X', 'X', 'O'],\n",
       " ['O', 'O', 'X', 'X', 'X', 'O', 'O'],\n",
       " ['O', 'O', 'O', 'X', 'O', 'O', 'O']]"
      ]
     },
     "execution_count": 135,
     "metadata": {},
     "output_type": "execute_result"
    }
   ],
   "source": [
    "\n",
    "def print_diamond(size):\n",
    "    if size % 2 == 0:        \n",
    "        left_limit = (size - 1) // 2  \n",
    "        right_limit = (size - 1) // 2  + 1\n",
    "    else :\n",
    "        left_limit = (size - 1) // 2 \n",
    "        right_limit = (size - 1) // 2\n",
    "    matrix = []\n",
    "    mitad = size // 2\n",
    "    for i in range(0, mitad  + 1 ):\n",
    "        row = []\n",
    "        for j in range(0 ,size):\n",
    "            if j >= left_limit and j <= right_limit:\n",
    "                row.append(\"X\")\n",
    "            else:\n",
    "                row.append(\"O\")\n",
    "        left_limit -=1\n",
    "        right_limit +=1\n",
    "        matrix.append(row)\n",
    "    for k in range( mitad +1 , size):\n",
    "        matrix.append(matrix[ size - k - 1])\n",
    "    return matrix\n",
    "\n",
    "print_diamond(7)\n",
    "\n",
    "            "
   ]
  },
  {
   "cell_type": "code",
   "execution_count": 214,
   "id": "d1d6f02d",
   "metadata": {},
   "outputs": [
    {
     "data": {
      "text/plain": [
       "[['O', 'O', 'O', 'O', 'O', 'X', 'O', 'O', 'O', 'O', 'O'],\n",
       " ['O', 'O', 'O', 'O', 'X', 'X', 'X', 'O', 'O', 'O', 'O'],\n",
       " ['O', 'O', 'O', 'X', 'X', 'X', 'X', 'X', 'O', 'O', 'O'],\n",
       " ['O', 'O', 'X', 'X', 'X', 'X', 'X', 'X', 'X', 'O', 'O'],\n",
       " ['O', 'X', 'X', 'X', 'X', 'X', 'X', 'X', 'X', 'X', 'O'],\n",
       " ['X', 'X', 'X', 'X', 'X', 'X', 'X', 'X', 'X', 'X', 'X'],\n",
       " ['O', 'X', 'X', 'X', 'X', 'X', 'X', 'X', 'X', 'X', 'O'],\n",
       " ['O', 'O', 'X', 'X', 'X', 'X', 'X', 'X', 'X', 'O', 'O'],\n",
       " ['O', 'O', 'O', 'X', 'X', 'X', 'X', 'X', 'O', 'O', 'O'],\n",
       " ['O', 'O', 'O', 'O', 'X', 'X', 'X', 'O', 'O', 'O', 'O'],\n",
       " ['O', 'O', 'O', 'O', 'O', 'X', 'O', 'O', 'O', 'O', 'O']]"
      ]
     },
     "execution_count": 214,
     "metadata": {},
     "output_type": "execute_result"
    }
   ],
   "source": [
    "\n",
    "def print_diamond(size):\n",
    "    matrix = []\n",
    "    for i in range(0, size ):\n",
    "        if i<= size //2:\n",
    "            left_limit = size // 2  - i\n",
    "            right_limit = size // 2 + i \n",
    "        else:\n",
    "            left_limit = i - (size // 2 )\n",
    "            right_limit = size - left_limit -1\n",
    "        row = []\n",
    "        for j in range(0,size):\n",
    "            #print( i , j ,\"Right limit : \", right_limit )\n",
    "            if j >= left_limit and  j<=right_limit:\n",
    "                row.append(\"X\")\n",
    "            else:\n",
    "                row.append(\"O\")\n",
    "                \n",
    "        matrix.append(row)\n",
    "            \n",
    "    return matrix\n",
    "print_diamond(11)\n",
    "\n",
    "            "
   ]
  },
  {
   "cell_type": "code",
   "execution_count": null,
   "id": "c70abe1a",
   "metadata": {},
   "outputs": [],
   "source": []
  }
 ],
 "metadata": {
  "kernelspec": {
   "display_name": "Python 3 (ipykernel)",
   "language": "python",
   "name": "python3"
  },
  "language_info": {
   "codemirror_mode": {
    "name": "ipython",
    "version": 3
   },
   "file_extension": ".py",
   "mimetype": "text/x-python",
   "name": "python",
   "nbconvert_exporter": "python",
   "pygments_lexer": "ipython3",
   "version": "3.8.9"
  }
 },
 "nbformat": 4,
 "nbformat_minor": 5
}
