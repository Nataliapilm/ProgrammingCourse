{
 "cells": [
  {
   "attachments": {},
   "cell_type": "markdown",
   "metadata": {},
   "source": [
    "# Homework 1-5 (10)\n",
    "\n",
    "AND to tetris \n",
    "\n",
    "Please submit the screen shoots of your circuits"
   ]
  },
  {
   "attachments": {},
   "cell_type": "markdown",
   "metadata": {},
   "source": [
    "### Submit circuit of 3 bits to \"number\" of two bits \n",
    "\n",
    "<u> **the image must be rendered on Github pages** </u>"
   ]
  },
  {
   "attachments": {},
   "cell_type": "markdown",
   "metadata": {},
   "source": [
    "** Here ** "
   ]
  },
  {
   "attachments": {},
   "cell_type": "markdown",
   "metadata": {},
   "source": [
    "### Submit complete circuit (using boxes) of sum of two numbers with 2 or more bits (each one)\n",
    "\n",
    "<u> **the image must be rendered on Github pages** </u>"
   ]
  },
  {
   "attachments": {},
   "cell_type": "markdown",
   "metadata": {},
   "source": [
    "** Here ** "
   ]
  },
  {
   "attachments": {},
   "cell_type": "markdown",
   "metadata": {},
   "source": [
    "## Now Programing \n",
    "\n",
    "Implement sum of two binary positive numbers in python "
   ]
  },
  {
   "cell_type": "code",
   "execution_count": 2,
   "metadata": {},
   "outputs": [],
   "source": [
    "# First Implement cast binary string to boolean values\n",
    "# The function must cast bineary list to boolean list\n",
    "# [ \"0\", \"0\", \"1\" ] -> [  False, False, True]\n",
    "# fixed_size put extra False on left side\n",
    "# fixed_size must be (always will be) >= len(boolean_list)\n",
    "# [ \"1\", \"1\"] , 3-> [False, True, True]\n",
    "def binary_to_boolean(binary_list, fixed_size):\n",
    "    pass"
   ]
  },
  {
   "cell_type": "code",
   "execution_count": 3,
   "metadata": {},
   "outputs": [],
   "source": [
    "# Calculate the maximum posible number of the string list rep. of binary number\n",
    "# The result must be the size of the longest list + 1\n",
    "# [\"1\",\"1\"], [\"1\"] -> 3 / [1], [1,0,1] -> 4\n",
    "def define_fixed_size(binary_list_a, binary_list_b):\n",
    "    pass"
   ]
  },
  {
   "cell_type": "code",
   "execution_count": 5,
   "metadata": {},
   "outputs": [],
   "source": [
    "# Calculate the sum of A , B and C as Boolean , the result must be two boolean\n",
    "# Fist the result , next the carry\n",
    "# True, True , True -> [True, True]\n",
    "# True , False , True -> [False, True]\n",
    "def basic_sum(A,B,carry):\n",
    "    pass"
   ]
  },
  {
   "cell_type": "code",
   "execution_count": null,
   "metadata": {},
   "outputs": [],
   "source": [
    "# Calculate the sum of two binary numbers (strings) (add new digit by default)\n",
    "# \"101\" , \"1\" -> \"0110\"\n",
    "def sum_two_numbers(binary_number_a,binary_number_b):\n",
    "    # search about .split() function \n",
    "     pass"
   ]
  }
 ],
 "metadata": {
  "kernelspec": {
   "display_name": "Python 3",
   "language": "python",
   "name": "python3"
  },
  "language_info": {
   "codemirror_mode": {
    "name": "ipython",
    "version": 3
   },
   "file_extension": ".py",
   "mimetype": "text/x-python",
   "name": "python",
   "nbconvert_exporter": "python",
   "pygments_lexer": "ipython3",
   "version": "3.10.9"
  },
  "orig_nbformat": 4,
  "vscode": {
   "interpreter": {
    "hash": "85da19012958733478b82ba617834f63d8b4af8bf6765cb8549d5f16e84cef98"
   }
  }
 },
 "nbformat": 4,
 "nbformat_minor": 2
}
